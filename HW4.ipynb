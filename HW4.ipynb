{
 "cells": [
  {
   "cell_type": "code",
   "execution_count": 54,
   "metadata": {},
   "outputs": [],
   "source": [
    "import numpy as np\n",
    "import random\n",
    "import time"
   ]
  },
  {
   "cell_type": "markdown",
   "metadata": {},
   "source": [
    "1. Birthday's problem"
   ]
  },
  {
   "cell_type": "code",
   "execution_count": 40,
   "metadata": {},
   "outputs": [],
   "source": [
    "def calcNoHit(q,n,aggregate, iterate):\n",
    "    if q > 0:\n",
    "        curRate = aggregate * (n-iterate)/(n)\n",
    "        return calcNoHit(q-1,n,curRate,iterate+1)\n",
    "    return aggregate\n",
    "\n",
    "def BirthdayProblem(q, n):\n",
    "    res = calcNoHit(q,n,1,0)\n",
    "    return 1-res"
   ]
  },
  {
   "cell_type": "code",
   "execution_count": 41,
   "metadata": {},
   "outputs": [
    {
     "name": "stdout",
     "output_type": "stream",
     "text": [
      "Need: 57 iteration for  chance to be >= 0.99\n"
     ]
    }
   ],
   "source": [
    "#1a - BirthdayProblem(q,356) >= 0.99\n",
    "ans1a = 0\n",
    "while (BirthdayProblem(ans1a,356) < 0.99):\n",
    "    ans1a += 1\n",
    "    \n",
    "print(f'Need: {ans1a} iteration for  chance to be >= 0.99'.format(ans1a))"
   ]
  },
  {
   "cell_type": "code",
   "execution_count": 42,
   "metadata": {},
   "outputs": [
    {
     "name": "stdout",
     "output_type": "stream",
     "text": [
      "Need: 776 iteration for  chance to be >= 0.99\n"
     ]
    }
   ],
   "source": [
    "#1b - BirthdayProblem(q,2^16) >= 0.99\n",
    "ans1b = 0\n",
    "while (BirthdayProblem(ans1b,2**16) < 0.99):\n",
    "    ans1b += 1\n",
    "    \n",
    "print(f'Need: {ans1b} iteration for  chance to be >= 0.99'.format(ans1b))"
   ]
  },
  {
   "cell_type": "markdown",
   "metadata": {},
   "source": [
    "2. /dev/random fetch"
   ]
  },
  {
   "cell_type": "code",
   "execution_count": 70,
   "metadata": {},
   "outputs": [],
   "source": [
    "#2a - fetch function:\n",
    "def fetchUntilRepeat():\n",
    "    x1 = random.getrandbits(16)\n",
    "    x2 = random.getrandbits(16)\n",
    "    return x1 != x2"
   ]
  },
  {
   "cell_type": "code",
   "execution_count": 71,
   "metadata": {},
   "outputs": [],
   "source": [
    "#2a - cycle counter\n",
    "def waitTilRepeat():\n",
    "    cycle = 0\n",
    "    while fetchUntilRepeat():\n",
    "        cycle += 1\n",
    "    return cycle"
   ]
  },
  {
   "cell_type": "code",
   "execution_count": 77,
   "metadata": {},
   "outputs": [
    {
     "data": {
      "text/plain": [
       "66258.6113999995"
      ]
     },
     "execution_count": 77,
     "metadata": {},
     "output_type": "execute_result"
    }
   ],
   "source": [
    "#2b - average run:\n",
    "def getAverageCollisonCycles(maxIter):\n",
    "    mean = 0\n",
    "    for i in range(1, maxIter+1):\n",
    "        #welford's online mean calculator:\n",
    "        delta = waitTilRepeat() - mean\n",
    "        mean += delta / i\n",
    "    return mean\n",
    "\n",
    "getAverageCollisonCycles(10000)"
   ]
  },
  {
   "cell_type": "code",
   "execution_count": null,
   "metadata": {},
   "outputs": [],
   "source": []
  }
 ],
 "metadata": {
  "kernelspec": {
   "display_name": "Python 3",
   "language": "python",
   "name": "python3"
  },
  "language_info": {
   "codemirror_mode": {
    "name": "ipython",
    "version": 3
   },
   "file_extension": ".py",
   "mimetype": "text/x-python",
   "name": "python",
   "nbconvert_exporter": "python",
   "pygments_lexer": "ipython3",
   "version": "3.6.9"
  }
 },
 "nbformat": 4,
 "nbformat_minor": 2
}
