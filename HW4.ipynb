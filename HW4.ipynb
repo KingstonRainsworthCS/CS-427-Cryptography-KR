{
 "cells": [
  {
   "cell_type": "code",
   "execution_count": 93,
   "metadata": {},
   "outputs": [],
   "source": [
    "import numpy as np\n",
    "import random\n",
    "import time\n",
    "from tqdm import tqdm"
   ]
  },
  {
   "cell_type": "markdown",
   "metadata": {},
   "source": [
    "1. Birthday's problem"
   ]
  },
  {
   "cell_type": "code",
   "execution_count": 40,
   "metadata": {},
   "outputs": [],
   "source": [
    "def calcNoHit(q,n,aggregate, iterate):\n",
    "    if q > 0:\n",
    "        curRate = aggregate * (n-iterate)/(n)\n",
    "        return calcNoHit(q-1,n,curRate,iterate+1)\n",
    "    return aggregate\n",
    "\n",
    "def BirthdayProblem(q, n):\n",
    "    res = calcNoHit(q,n,1,0)\n",
    "    return 1-res"
   ]
  },
  {
   "cell_type": "code",
   "execution_count": 41,
   "metadata": {},
   "outputs": [
    {
     "name": "stdout",
     "output_type": "stream",
     "text": [
      "Need: 57 iteration for  chance to be >= 0.99\n"
     ]
    }
   ],
   "source": [
    "#1a - BirthdayProblem(q,356) >= 0.99\n",
    "ans1a = 0\n",
    "while (BirthdayProblem(ans1a,356) < 0.99):\n",
    "    ans1a += 1\n",
    "    \n",
    "print(f'Need: {ans1a} iteration for  chance to be >= 0.99'.format(ans1a))"
   ]
  },
  {
   "cell_type": "code",
   "execution_count": 42,
   "metadata": {},
   "outputs": [
    {
     "name": "stdout",
     "output_type": "stream",
     "text": [
      "Need: 776 iteration for  chance to be >= 0.99\n"
     ]
    }
   ],
   "source": [
    "#1b - BirthdayProblem(q,2^16) >= 0.99\n",
    "ans1b = 0\n",
    "while (BirthdayProblem(ans1b,2**16) < 0.99):\n",
    "    ans1b += 1\n",
    "    \n",
    "print(f'Need: {ans1b} iteration for  chance to be >= 0.99'.format(ans1b))"
   ]
  },
  {
   "cell_type": "markdown",
   "metadata": {},
   "source": [
    "2. /dev/random fetch"
   ]
  },
  {
   "cell_type": "code",
   "execution_count": 143,
   "metadata": {},
   "outputs": [],
   "source": [
    "#2a - fetch function:\n",
    "def fetchUntilRepeat(nbits):\n",
    "    storedArray = np.empty(0)\n",
    "    stopFlag = False\n",
    "    while (not stopFlag):\n",
    "        x1 = random.getrandbits(nbits)\n",
    "        storedArray = np.append(storedArray, x1)\n",
    "        x2 = random.getrandbits(nbits)\n",
    "        stopFlag = np.any(np.isin(storedArray, x2))\n",
    "    return storedArray.size"
   ]
  },
  {
   "cell_type": "code",
   "execution_count": 156,
   "metadata": {},
   "outputs": [
    {
     "name": "stdout",
     "output_type": "stream",
     "text": [
      "Need: 302 iteration for  chance to be >= 0.5\n"
     ]
    }
   ],
   "source": [
    "#2a - expected values:\n",
    "ans2a = 0\n",
    "while (BirthdayProblem(ans2a,2**16) < 0.5):\n",
    "    ans2a += 1\n",
    "    \n",
    "print(f'Need: {ans2a} iteration for  chance to be >= 0.5'.format(ans2a))"
   ]
  },
  {
   "cell_type": "code",
   "execution_count": 155,
   "metadata": {},
   "outputs": [
    {
     "name": "stderr",
     "output_type": "stream",
     "text": [
      "100%|██████████| 100000/100000 [10:44<00:00, 155.10it/s]\n"
     ]
    },
    {
     "data": {
      "text/plain": [
       "321.23910000000507"
      ]
     },
     "execution_count": 155,
     "metadata": {},
     "output_type": "execute_result"
    }
   ],
   "source": [
    "#2b - average run:\n",
    "def getAverageCollisonCycles(maxIter):\n",
    "    mean = 0\n",
    "    for i in tqdm(range(1, maxIter+1)):\n",
    "        #welford's online mean calculator:\n",
    "        curVal = fetchUntilRepeat(16)\n",
    "        delta = curVal - mean\n",
    "        mean += delta / i\n",
    "    return mean\n",
    "\n",
    "getAverageCollisonCycles(100000)"
   ]
  },
  {
   "cell_type": "code",
   "execution_count": 144,
   "metadata": {},
   "outputs": [
    {
     "data": {
      "text/plain": [
       "True"
      ]
     },
     "execution_count": 144,
     "metadata": {},
     "output_type": "execute_result"
    }
   ],
   "source": [
    "z = np.empty(0)\n",
    "z = np.append(z,[1,2])\n",
    "np.any(np.isin(z, 1))"
   ]
  },
  {
   "cell_type": "code",
   "execution_count": 151,
   "metadata": {},
   "outputs": [
    {
     "data": {
      "text/plain": [
       "559"
      ]
     },
     "execution_count": 151,
     "metadata": {},
     "output_type": "execute_result"
    }
   ],
   "source": [
    "fetchUntilRepeat(16)"
   ]
  },
  {
   "cell_type": "code",
   "execution_count": null,
   "metadata": {},
   "outputs": [],
   "source": []
  }
 ],
 "metadata": {
  "kernelspec": {
   "display_name": "Python 3",
   "language": "python",
   "name": "python3"
  },
  "language_info": {
   "codemirror_mode": {
    "name": "ipython",
    "version": 3
   },
   "file_extension": ".py",
   "mimetype": "text/x-python",
   "name": "python",
   "nbconvert_exporter": "python",
   "pygments_lexer": "ipython3",
   "version": "3.6.9"
  }
 },
 "nbformat": 4,
 "nbformat_minor": 2
}
